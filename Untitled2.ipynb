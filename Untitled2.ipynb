{
  "nbformat": 4,
  "nbformat_minor": 0,
  "metadata": {
    "colab": {
      "provenance": [],
      "authorship_tag": "ABX9TyOuOX0Kvuf7TWLzetPjvtSf",
      "include_colab_link": true
    },
    "kernelspec": {
      "name": "python3",
      "display_name": "Python 3"
    },
    "language_info": {
      "name": "python"
    }
  },
  "cells": [
    {
      "cell_type": "markdown",
      "metadata": {
        "id": "view-in-github",
        "colab_type": "text"
      },
      "source": [
        "<a href=\"https://colab.research.google.com/github/wangxinying0220/TKU-AI-412630757/blob/main/Untitled2.ipynb\" target=\"_parent\"><img src=\"https://colab.research.google.com/assets/colab-badge.svg\" alt=\"Open In Colab\"/></a>"
      ]
    },
    {
      "cell_type": "code",
      "source": [
        "age=18\n",
        "age"
      ],
      "metadata": {
        "id": "y0_DkMz5-2fk"
      },
      "execution_count": null,
      "outputs": []
    },
    {
      "cell_type": "markdown",
      "source": [
        "18"
      ],
      "metadata": {
        "id": "JHXS88js-_Oq"
      }
    },
    {
      "cell_type": "code",
      "source": [
        "age=18\n",
        "name=\"DT\"\n",
        "age,name"
      ],
      "metadata": {
        "colab": {
          "base_uri": "https://localhost:8080/"
        },
        "id": "8lqr_b7T-2gw",
        "outputId": "4f33ed23-18ff-4add-87bb-e58869de94e5"
      },
      "execution_count": 4,
      "outputs": [
        {
          "output_type": "execute_result",
          "data": {
            "text/plain": [
              "(18, 'DT')"
            ]
          },
          "metadata": {},
          "execution_count": 4
        }
      ]
    },
    {
      "cell_type": "markdown",
      "source": [
        "(18,\"DT\")\n"
      ],
      "metadata": {
        "id": "np9PTu8_-3Ms"
      }
    },
    {
      "cell_type": "code",
      "source": [
        "b=2\n",
        "b"
      ],
      "metadata": {
        "colab": {
          "base_uri": "https://localhost:8080/"
        },
        "id": "JMjBjDqX985L",
        "outputId": "f7c55214-a9c1-4ac8-d9c4-c0e5234569db"
      },
      "execution_count": 3,
      "outputs": [
        {
          "output_type": "execute_result",
          "data": {
            "text/plain": [
              "2"
            ]
          },
          "metadata": {},
          "execution_count": 3
        }
      ]
    },
    {
      "cell_type": "code",
      "source": [
        "str1=\"PeiYu說: 'Hey,你好！'\"\n",
        "str2='PeiYu說: \"Hey,你好！\"'"
      ],
      "metadata": {
        "id": "JIPxCIGx_0Bh"
      },
      "execution_count": null,
      "outputs": []
    },
    {
      "cell_type": "code",
      "source": [
        "print(type(56))"
      ],
      "metadata": {
        "id": "H3MfQopVAxyz"
      },
      "execution_count": null,
      "outputs": []
    },
    {
      "cell_type": "markdown",
      "source": [
        "<class 'int'>"
      ],
      "metadata": {
        "id": "fnNqX-TqAzZ5"
      }
    },
    {
      "cell_type": "code",
      "source": [
        "print(type(56.0))"
      ],
      "metadata": {
        "id": "4hL_DqKiAxzm"
      },
      "execution_count": null,
      "outputs": []
    },
    {
      "cell_type": "markdown",
      "source": [
        "<class 'float'>"
      ],
      "metadata": {
        "id": "qb_oF3ySA7BR"
      }
    },
    {
      "cell_type": "code",
      "source": [
        "print(type(\"Hey man, how are you?\"))"
      ],
      "metadata": {
        "id": "c6iuwRFWBDdB"
      },
      "execution_count": null,
      "outputs": []
    },
    {
      "cell_type": "markdown",
      "source": [
        "<class 'str'>"
      ],
      "metadata": {
        "id": "cKhgCi-xA7Cs"
      }
    },
    {
      "cell_type": "code",
      "source": [
        "print(type(True))"
      ],
      "metadata": {
        "id": "xE_xm9Xk_0Ch"
      },
      "execution_count": null,
      "outputs": []
    },
    {
      "cell_type": "markdown",
      "source": [
        "<class 'bool'>\n"
      ],
      "metadata": {
        "id": "D_43oEA8BOSi"
      }
    },
    {
      "cell_type": "code",
      "source": [
        "num1 = 1 + 1.1\n",
        "int(num1)\n",
        "float(num1)\n",
        "str(num1)"
      ],
      "metadata": {
        "id": "Anl74iC9Bjei"
      },
      "execution_count": null,
      "outputs": []
    },
    {
      "cell_type": "markdown",
      "source": [
        "\"2.1\"\n",
        "\n"
      ],
      "metadata": {
        "id": "_BTer35HCRDB"
      }
    },
    {
      "cell_type": "code",
      "source": [
        "a=1\n",
        "b=2\n",
        "c=3\n",
        "print(a,b,c)\n",
        "print([a,b,c])\n",
        "print(a,{b,c})"
      ],
      "metadata": {
        "id": "CM8KNkuzCfNF"
      },
      "execution_count": null,
      "outputs": []
    },
    {
      "cell_type": "markdown",
      "source": [
        "(1,2,3)\n",
        "([1,2,3])\n",
        "(1,[2,3])"
      ],
      "metadata": {
        "id": "2HdFyr5eDT4V"
      }
    },
    {
      "cell_type": "code",
      "source": [
        "print('hey','hi','hello')\n",
        "print('hey','hi','hello',sep='-')\n",
        "print('hey','hi','hello',sep='\\t')\n",
        "print('hey','hi','hello',sep='\\n')"
      ],
      "metadata": {
        "colab": {
          "base_uri": "https://localhost:8080/"
        },
        "id": "JnD1SPzFDmBb",
        "outputId": "70c4e654-2d16-4ad4-8962-cf4a4134e730"
      },
      "execution_count": 6,
      "outputs": [
        {
          "output_type": "stream",
          "name": "stdout",
          "text": [
            "hey hi hello\n",
            "hey-hi-hello\n",
            "hey\thi\thello\n",
            "hey\n",
            "hi\n",
            "hello\n"
          ]
        }
      ]
    },
    {
      "cell_type": "markdown",
      "source": [],
      "metadata": {
        "id": "xCO0iS2kEZU7"
      }
    },
    {
      "cell_type": "code",
      "source": [
        "print('午安,')\n",
        "print('同學好!')\n",
        "print('打起精神來!!')\n",
        "print('午安,''同學好!','打起精神來!!',sep='\\n')"
      ],
      "metadata": {
        "colab": {
          "base_uri": "https://localhost:8080/"
        },
        "id": "lHQHQG0wEeX0",
        "outputId": "bd8d5167-60c5-4a4c-e3bb-99f8aab9ec5a"
      },
      "execution_count": 9,
      "outputs": [
        {
          "output_type": "stream",
          "name": "stdout",
          "text": [
            "午安,\n",
            "同學好!\n",
            "打起精神來!!\n",
            "午安,同學好!\n",
            "打起精神來!!\n"
          ]
        }
      ]
    },
    {
      "cell_type": "code",
      "source": [
        "print(123)\n",
        "print(456)"
      ],
      "metadata": {
        "colab": {
          "base_uri": "https://localhost:8080/"
        },
        "id": "sZOTGMXvFgbz",
        "outputId": "471f0a08-0504-4fc9-a898-a9c5350e2157"
      },
      "execution_count": 10,
      "outputs": [
        {
          "output_type": "stream",
          "name": "stdout",
          "text": [
            "123\n",
            "456\n"
          ]
        }
      ]
    },
    {
      "cell_type": "code",
      "source": [
        "print(123,end='.')\n",
        "print(456)"
      ],
      "metadata": {
        "colab": {
          "base_uri": "https://localhost:8080/"
        },
        "id": "XgpgbYhTFveh",
        "outputId": "b58342d5-80d7-465b-9323-3e42a1cfd5c9"
      },
      "execution_count": 11,
      "outputs": [
        {
          "output_type": "stream",
          "name": "stdout",
          "text": [
            "123.456\n"
          ]
        }
      ]
    },
    {
      "cell_type": "code",
      "source": [
        "print(123,end='')\n",
        "print(456)"
      ],
      "metadata": {
        "colab": {
          "base_uri": "https://localhost:8080/"
        },
        "id": "PZUzT0gUFvfr",
        "outputId": "e3fe3c41-1ab5-4dfb-95d1-53ebb1e855b7"
      },
      "execution_count": 12,
      "outputs": [
        {
          "output_type": "stream",
          "name": "stdout",
          "text": [
            "123456\n"
          ]
        }
      ]
    },
    {
      "cell_type": "code",
      "source": [
        "print('午安_同學好_打起精神來!!!')\n",
        "print('下午好,平安順心,健康如意^^')"
      ],
      "metadata": {
        "colab": {
          "base_uri": "https://localhost:8080/"
        },
        "id": "Gf2eLFp7Fgc2",
        "outputId": "fafeeb6a-ea0e-4f24-e6ac-53a68b510475"
      },
      "execution_count": 19,
      "outputs": [
        {
          "output_type": "stream",
          "name": "stdout",
          "text": [
            "午安_同學好_打起精神來!!!\n",
            "下午好,平安順心,健康如意^^\n"
          ]
        }
      ]
    }
  ]
}